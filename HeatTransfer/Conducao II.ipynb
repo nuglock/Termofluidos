{
 "cells": [
  {
   "cell_type": "markdown",
   "metadata": {
    "slideshow": {
     "slide_type": "slide"
    }
   },
   "source": [
    "# Fenômenos de Transporte\n",
    " _Prof. Tito Dias Júnior_"
   ]
  },
  {
   "cell_type": "markdown",
   "metadata": {
    "slideshow": {
     "slide_type": "slide"
    }
   },
   "source": [
    "### Parte I: Perda de Calor através de uma parede"
   ]
  },
  {
   "cell_type": "markdown",
   "metadata": {
    "slideshow": {
     "slide_type": "slide"
    }
   },
   "source": [
    "\n",
    "### **Exemplo 2:** \n",
    "Considere uma parede com 3m de altura, 5m de largura e 0,3m de espessura, cuja condutividade térmica é $k = 0.9 W/m °C$, como mostrada na figura. Em um certo dia, as temperaturas interna e externa são $16°C$ e $2°C$, respectivamente. Determine a taxa de perda de calor através da parede."
   ]
  },
  {
   "cell_type": "code",
   "execution_count": 7,
   "metadata": {},
   "outputs": [
    {
     "output_type": "execute_result",
     "data": {
      "image/png": "[encoded data removed]",
      "text/plain": "<IPython.core.display.Image object>"
     },
     "metadata": {},
     "execution_count": 7
    }
   ],
   "source": [
    "from IPython.display import Image\n",
    "Image(\"exemplo2.png\")"
   ]
  },
  {
   "cell_type": "code",
   "execution_count": 13,
   "metadata": {
    "slideshow": {
     "slide_type": "slide"
    }
   },
   "outputs": [],
   "source": [
    "L = 0.3    # Distância em m\n",
    "T1 = 16    # Temperatura em °C\n",
    "T2 = 2     # Temperatura em °C\n",
    "A = 5*3    # Área entre as placas igual a altura vezes a largura"
   ]
  },
  {
   "cell_type": "markdown",
   "metadata": {
    "slideshow": {
     "slide_type": "slide"
    }
   },
   "source": [
    "## Solução\n",
    "\n",
    "As duas superfícies da parede são mantidas às temperaturas especificadas. Deve-se determinar a taxa de perda de calor através da parede. \n",
    "\n",
    "### Hipóteses\n",
    "1. Regime permanente, ou seja, temperaturas constantes. \n",
    "2. Transferência de calor unidimensional \n",
    "3. Condutividade térmica constante\n"
   ]
  },
  {
   "cell_type": "markdown",
   "metadata": {
    "slideshow": {
     "slide_type": "slide"
    }
   },
   "source": [
    "### Propriedades - Condutividade térmica\n",
    "1. Parede  $ k=0,9 W/m ° C $ "
   ]
  },
  {
   "cell_type": "code",
   "execution_count": 14,
   "metadata": {},
   "outputs": [],
   "source": [
    "k_wall = 0.9"
   ]
  },
  {
   "cell_type": "markdown",
   "metadata": {
    "slideshow": {
     "slide_type": "slide"
    }
   },
   "source": [
    "### Análise\n",
    " A taxa de transferência de calor por condução nas placa é: <br>"
   ]
  },
  {
   "cell_type": "markdown",
   "metadata": {
    "slideshow": {
     "slide_type": "slide"
    }
   },
   "source": [
    "$ \\dot{Q_{cond}}=kA\\frac{(T_1 - T_2)}{L}$"
   ]
  },
  {
   "cell_type": "code",
   "execution_count": 15,
   "metadata": {
    "slideshow": {
     "slide_type": "fragment"
    }
   },
   "outputs": [],
   "source": [
    "# Definindo a função que calcula a taxa de transf. de calor por CONDUÇÃO\n",
    "def Qcond(k,A,L,T1,T2):\n",
    "    Qcond = k*A*(T1-T2)/L\n",
    "    return Qcond"
   ]
  },
  {
   "cell_type": "markdown",
   "metadata": {
    "slideshow": {
     "slide_type": "slide"
    }
   },
   "source": [
    "Portanto, a taxa de perda de calor através da parede é equivalente ao calor conduzido pela parede: <br>"
   ]
  },
  {
   "cell_type": "code",
   "execution_count": 16,
   "metadata": {
    "slideshow": {
     "slide_type": "fragment"
    },
    "tags": []
   },
   "outputs": [
    {
     "output_type": "stream",
     "name": "stdout",
     "text": "Qwall = 630.0 W\n"
    }
   ],
   "source": [
    "Qwall = Qcond(k_wall,A,L,T1,T2)\n",
    "print('Qwall =', Qwall, 'W')\n"
   ]
  },
  {
   "cell_type": "markdown",
   "metadata": {
    "slideshow": {
     "slide_type": "slide"
    }
   },
   "source": [
    "### Método alternativo\n",
    "\n",
    "Podemos utilizar o conceito de resistência térmica, já que a taxa de transferência pode ser escrita como: <br>\n",
    "$\\dot{Q}=\\frac{\\Delta T_{wall}}{R_{wall}}$ \n",
    "onde a resistência térmica pode ser escrita assim: $R_{wall}=\\frac{L}{kA}$"
   ]
  },
  {
   "cell_type": "code",
   "execution_count": 17,
   "metadata": {
    "slideshow": {
     "slide_type": "fragment"
    },
    "tags": []
   },
   "outputs": [
    {
     "output_type": "stream",
     "name": "stdout",
     "text": "Q_wall = 630.0 W\n"
    }
   ],
   "source": [
    "R_wall = L/(k_wall*A) #Resistência térmica\n",
    "Q_wall = (T1-T2)/R_wall\n",
    "print('Q_wall =', Q_wall, 'W')\n"
   ]
  },
  {
   "cell_type": "markdown",
   "metadata": {},
   "source": [
    "Questão: Utilizando este mesmo notebook, substitua o material da parede por madeira e determine o fluxo de calor através da parede."
   ]
  },
  {
   "cell_type": "markdown",
   "metadata": {
    "slideshow": {
     "slide_type": "slide"
    }
   },
   "source": [
    "## Referência"
   ]
  },
  {
   "cell_type": "markdown",
   "metadata": {
    "slideshow": {
     "slide_type": "fragment"
    }
   },
   "source": [
    "Çengel, Y. A., Turner, R. H., & Cimbala, J. M. (2008). **Fundamentals of thermal-fluid sciences**. Boston: McGraw-Hill."
   ]
  },
  {
   "cell_type": "code",
   "execution_count": null,
   "metadata": {},
   "outputs": [],
   "source": []
  }
 ],
 "metadata": {
  "kernelspec": {
   "display_name": "Python 3",
   "language": "python",
   "name": "python3"
  },
  "language_info": {
   "codemirror_mode": {
    "name": "ipython",
    "version": 3
   },
   "file_extension": ".py",
   "mimetype": "text/x-python",
   "name": "python",
   "nbconvert_exporter": "python",
   "pygments_lexer": "ipython3",
   "version": "3.7.6-final"
  }
 },
 "nbformat": 4,
 "nbformat_minor": 4
}