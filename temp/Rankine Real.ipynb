{
 "cells": [
  {
   "cell_type": "markdown",
   "metadata": {
    "slideshow": {
     "slide_type": "slide"
    }
   },
   "source": [
    "# Máquinas Térmicas\n",
    " _Prof. Tito Dias Júnior_"
   ]
  },
  {
   "cell_type": "markdown",
   "metadata": {
    "slideshow": {
     "slide_type": "slide"
    }
   },
   "source": [
    "### Ciclo de Rankine Simples Real"
   ]
  },
  {
   "cell_type": "markdown",
   "metadata": {
    "slideshow": {
     "slide_type": "slide"
    }
   },
   "source": [
    "\n",
    "### **Exemplo:**\n",
    "Uma usina de potência a vapor de água opera segundo o ciclo mostrado abaixo.\n",
    "Se a eficiência isentrópica da turbina é de 87% e a eficiência isentrópica da bomba é\n",
    "de 85%, determine (a) a eficiência térmica do ciclo e (b) a potência líquida da usina\n",
    "para um fluxo de massa de 15 kg/s.\n",
    "\n"
   ]
  },
  {
   "cell_type": "markdown",
   "metadata": {},
   "source": [
    "![Esquema](Exemplo_10.2.png \"Esquema do Ciclo de Potência\")"
   ]
  },
  {
   "cell_type": "markdown",
   "metadata": {
    "slideshow": {
     "slide_type": "slide"
    }
   },
   "source": [
    "## Solução"
   ]
  },
  {
   "cell_type": "markdown",
   "metadata": {
    "slideshow": {
     "slide_type": "fragment"
    }
   },
   "source": [
    "Para a solução do problema devemos analisar o diagrama T-s para o ciclo ideal de Rankine e, partindo da definição, calcular a eficiência térmica do ciclo. \n",
    "\n",
    "Nesse exemplo, a turbina e o compressores são reais ou seja não são perfeitamente isentrópicos, havendo aumento de entropia nos processos correspondentes. Esse aumento real de entropia pode ser medido em laboratório e utilizado para calccular a efeciência isentrópica de cada equipamento.\n",
    "\n",
    "Além disso, no esquema da figura anterior, observamos queda de pressão entre a entrada e a saída da caldeira em razão da perda de carga, ou dissipação de energia devido ao escoamento. O mesmo ocorre no condensador."
   ]
  },
  {
   "cell_type": "markdown",
   "metadata": {
    "slideshow": {
     "slide_type": "slide"
    }
   },
   "source": [
    "Podemos construir o diagrama abaixo, considerando o ciclo em regime permanente e as perdas de carga no evaporador e condensador, considerando as esficiências isentrópicas da bomba e da turbina isentrópicas.\n",
    "\n",
    "![Esquema](Diagrama_10.2.png \"Diagrama T-s do Ciclo de Potência\")"
   ]
  },
  {
   "cell_type": "markdown",
   "metadata": {
    "slideshow": {
     "slide_type": "slide"
    }
   },
   "source": [
    "Lembrando que a eficiência térmica é a relação entre trabalho líquido e o calor fornecido na caldeira, para sua determinação devemos calcular, além do calor fornecido ($Q_H$), o trabalho produzido pela turbina ($W_{turb}$) e o trabalho consumido pela bomba ($W_{bomb}$).\n",
    "\n",
    "O trabalho consumido pela bomba pode ser calculado de duas formas. Uma seria determinando a entalpia do estado 2 usando sua eficiência isentrópica e o estado 1 ($T_1=38°C$ e $P_1=9kPa$), e em seguida o trabalho consumido pela bomba. A outra seria considerar o o volume do líquido comprimido aproximadamente constante e calcular o trabalho de compressão como função somente da variação de pressão, ou seja $W_{bomb, real}=\\frac{v_1(P_2-P_1)}{\\eta_{bomb}}$.\n",
    "\n",
    "\n"
   ]
  },
  {
   "cell_type": "markdown",
   "metadata": {
    "slideshow": {
     "slide_type": "slide"
    }
   },
   "source": [
    "Começamos obtendo as propriedades do fluido de trabalho (Água) nos estados de interesse. Para isso vamos usar a biblioteca de propriedades de fluidos CoolProp (http://www.coolprop.org) e definir a água (water) como fluido de trabalho."
   ]
  },
  {
   "cell_type": "code",
   "execution_count": 3,
   "metadata": {
    "slideshow": {
     "slide_type": "fragment"
    }
   },
   "outputs": [],
   "source": [
    "from CoolProp import CoolProp as cp\n",
    "fluido = 'Water'"
   ]
  },
  {
   "cell_type": "markdown",
   "metadata": {
    "slideshow": {
     "slide_type": "slide"
    }
   },
   "source": [
    "Para o estado 1, temos líquido a $P_1=5,62kPa = 0,009MPa$ e $T_1=35°C$:\n"
   ]
  },
  {
   "cell_type": "code",
   "execution_count": 4,
   "metadata": {
    "slideshow": {
     "slide_type": "fragment"
    }
   },
   "outputs": [
    {
     "name": "stdout",
     "output_type": "stream",
     "text": [
      "h1= 146.634 kJ/kg\n",
      "v1= 0.001006 m^3/kg\n",
      "s1= 0.505 kJ/kg\n",
      "T1= 35.0 °C\n"
     ]
    }
   ],
   "source": [
    "P1 = 0.00568 #Unidade em MPa, a conversão para Pa será feita na chamada à função abaixo.\n",
    "T1 = 35 + 273.15    # Temperatura em K\n",
    "h1 = cp.PropsSI('H', 'P', P1 * 1E6, 'T', T1, fluido) * 1E-3 #Determinando a entalpia e convertendo para kJ/kg\n",
    "v1 = 1/cp.PropsSI('D', 'P', P1 * 1E6, 'T', T1, fluido)  #Determinando a densidade e invertendo para obter o volume específico (m^3/kg)\n",
    "s1 = cp.PropsSI('S', 'P', P1 * 1E6, 'T', T1, fluido) * 1E-3 #Determinando a entropia e convertendo para kJ/kg\n",
    "Q1 = cp.PropsSI('Q', 'P', P1 * 1E6, 'T', T1, fluido)        #Determinando a temperatura em K\n",
    "print('h1= {:.3f} kJ/kg'.format(h1))\n",
    "print('v1= {:.6f} m^3/kg'.format(v1))\n",
    "print('s1= {:.3f} kJ/kg'.format(s1))\n",
    "print('T1= {:.1f} °C'.format(T1-273.15))\n"
   ]
  },
  {
   "cell_type": "markdown",
   "metadata": {
    "slideshow": {
     "slide_type": "slide"
    }
   },
   "source": [
    "Do enunciado, temos que $\\eta_{bomb}=0,85$, $P_2=0,5MPa$ e podemos calcular o trabalho consumido pela bomba:"
   ]
  },
  {
   "cell_type": "code",
   "execution_count": 5,
   "metadata": {
    "slideshow": {
     "slide_type": "fragment"
    }
   },
   "outputs": [
    {
     "name": "stdout",
     "output_type": "stream",
     "text": [
      "W_bomb = 0.497 kJ/kg\n"
     ]
    }
   ],
   "source": [
    "eta_bomb = 1 # Eficiência isentrópica da bomba\n",
    "P2 = 0.5        # Pressão em MPa\n",
    "W_bomb = v1*(P2-P1)/eta_bomb * 1e3 #Fator de conversão de MPa para kPa\n",
    "print('W_bomb = {:.3f} kJ/kg'.format(W_bomb))"
   ]
  },
  {
   "cell_type": "markdown",
   "metadata": {
    "slideshow": {
     "slide_type": "slide"
    }
   },
   "source": [
    "Para calcularmos o trabalho produzido pela turbina, utilizamos as entalpias dos estados 5 e 6s, equivalente a uma turbina isentrópica e multiplicamos pela eficiência isentrópica da turbina ($\\eta_{turb}=0,87$):"
   ]
  },
  {
   "cell_type": "code",
   "execution_count": 6,
   "metadata": {
    "slideshow": {
     "slide_type": "fragment"
    }
   },
   "outputs": [
    {
     "name": "stdout",
     "output_type": "stream",
     "text": [
      "3064.5536433601965\n",
      "2618.9619322838175\n",
      "Q6s =  0.9862476649180588\n",
      "W_turb = 445.592 kJ/kg\n"
     ]
    }
   ],
   "source": [
    "eta_turb = 1 # Eficiência isentrópica da turbina\n",
    "# Estado 5\n",
    "P5 = 0.5\n",
    "T5 = 300 + 273.15\n",
    "h5 = cp.PropsSI('H', 'P', P5 * 1E6, 'T', T5, fluido) * 1E-3\n",
    "s5 = cp.PropsSI('S', 'P', P5 * 1E6, 'T', T5, fluido) * 1E-3\n",
    "print(h5)\n",
    "# Estado 6\n",
    "P6 = 0.0568 # P6 = 10kPa\n",
    "s6s = s5    # Estado 6s de uma turbina isentrópica\n",
    "h6s = cp.PropsSI('H', 'P', P6 * 1E6, 'S', s6s *1E3, fluido) * 1E-3\n",
    "Q6s = cp.PropsSI('Q', 'P', P6 * 1E6, 'S', s6s *1E3, fluido) \n",
    "print(h6s)\n",
    "print('Q6s = ', Q6s)\n",
    "\n",
    "# Trabalho na turbina real = trabalho na turbina isentrópica vezes a efeciência isentrópica\n",
    "W_turb = eta_turb*(h5-h6s)\n",
    "print('W_turb = {:.3f} kJ/kg'.format(W_turb))"
   ]
  },
  {
   "cell_type": "markdown",
   "metadata": {
    "slideshow": {
     "slide_type": "slide"
    }
   },
   "source": [
    "Agora nos resta calcular o calor fornecido na caldeira $Q_H=(h_4-h_3)$ :"
   ]
  },
  {
   "cell_type": "code",
   "execution_count": 7,
   "metadata": {
    "slideshow": {
     "slide_type": "fragment"
    }
   },
   "outputs": [
    {
     "name": "stdout",
     "output_type": "stream",
     "text": [
      "147.0781423846125\n",
      "3064.5536433601965\n",
      "Q_H  = 2917.476 kJ/kg\n"
     ]
    }
   ],
   "source": [
    "# Estado 3:\n",
    "P3 = 0.5\n",
    "T3 = 35 + 273.15\n",
    "h3 = cp.PropsSI('H', 'P', P3 * 1E6, 'T', T3, fluido) * 1E-3\n",
    "print(h3)\n",
    "\n",
    "# Estado 4:\n",
    "P4 = 0.5\n",
    "T4 = 300 + 273.15\n",
    "h4 = cp.PropsSI('H', 'P', P4 * 1E6, 'T', T4, fluido) * 1E-3\n",
    "print(h4)\n",
    "\n",
    "# Calor fornecido pela caldeira\n",
    "Q_H = h4-h3\n",
    "print('Q_H  = {:.3f} kJ/kg'.format(Q_H))"
   ]
  },
  {
   "cell_type": "markdown",
   "metadata": {
    "slideshow": {
     "slide_type": "slide"
    }
   },
   "source": [
    "Assim a eficiência pode ser calculada $\\eta = \\frac{W_turb-W_{bomb}}{Q_H}$:"
   ]
  },
  {
   "cell_type": "code",
   "execution_count": 8,
   "metadata": {
    "slideshow": {
     "slide_type": "fragment"
    }
   },
   "outputs": [
    {
     "name": "stdout",
     "output_type": "stream",
     "text": [
      "Eficiência = 0.153\n"
     ]
    }
   ],
   "source": [
    "# Cálculo da eficiência\n",
    "eta = (W_turb-W_bomb)/Q_H\n",
    "print('Eficiência = {:.3f}'.format(eta))"
   ]
  },
  {
   "cell_type": "markdown",
   "metadata": {
    "slideshow": {
     "slide_type": "slide"
    }
   },
   "source": [
    "b) Para determinar a potência produzida pelo ciclo para a vazão mássica de fluido de trabalho prescrita:"
   ]
  },
  {
   "cell_type": "code",
   "execution_count": 9,
   "metadata": {
    "slideshow": {
     "slide_type": "fragment"
    }
   },
   "outputs": [
    {
     "name": "stdout",
     "output_type": "stream",
     "text": [
      "5555.555555555556\n",
      "m = 0.001904 kg/s\n",
      "Potência Turbina = 848.511 W\n",
      "Potência Bomba = 0.947 W\n"
     ]
    }
   ],
   "source": [
    "mQH = 20E6/3600 # 20 MJ/h\n",
    "print(mQH)\n",
    "m = mQH/(Q_H*1E3)\n",
    "mW_turb = W_turb*m\n",
    "mW_bomb = W_bomb*m\n",
    "print('m = {:.6f} kg/s'.format(m))\n",
    "print('Potência Turbina = {:.3f} W'.format(mW_turb*1E3))\n",
    "print('Potência Bomba = {:.3f} W'.format(mW_bomb*1E3))"
   ]
  },
  {
   "cell_type": "code",
   "execution_count": 25,
   "metadata": {
    "slideshow": {
     "slide_type": "slide"
    }
   },
   "outputs": [
    {
     "name": "stdout",
     "output_type": "stream",
     "text": [
      "=========SUMÁRIO============\n",
      "============================\n",
      "ebomb = 1.00 <> eturb = 1.00\n",
      "----------------------------\n",
      "W_bomb     = 0.497 kJ/kg\n",
      "W_turb     = 445.592 kJ/kg\n",
      "Q_H        = 2917.476 kJ/kg\n",
      "Eficiência = 0.153\n",
      "Potência   = 0.849 kW\n",
      "============================\n"
     ]
    }
   ],
   "source": [
    "print('=========SUMÁRIO============')\n",
    "print('============================')\n",
    "print('ebomb = {:.2f} <> eturb = {:.2f}'.format(eta_bomb,eta_turb))\n",
    "print('----------------------------')\n",
    "print('W_bomb     = {:.3f} kJ/kg'.format(W_bomb))\n",
    "print('W_turb     = {:.3f} kJ/kg'.format(W_turb))\n",
    "print('Q_H        = {:.3f} kJ/kg'.format(Q_H))\n",
    "print('Eficiência = {:.3f}'.format(eta))\n",
    "print('Potência   = {:.3f} kW'.format(mW_turb))\n",
    "print('============================')\n"
   ]
  },
  {
   "cell_type": "code",
   "execution_count": null,
   "metadata": {},
   "outputs": [],
   "source": []
  }
 ],
 "metadata": {
  "kernelspec": {
   "display_name": "Python 3",
   "language": "python",
   "name": "python3"
  },
  "language_info": {
   "codemirror_mode": {
    "name": "ipython",
    "version": 3
   },
   "file_extension": ".py",
   "mimetype": "text/x-python",
   "name": "python",
   "nbconvert_exporter": "python",
   "pygments_lexer": "ipython3",
   "version": "3.7.6"
  }
 },
 "nbformat": 4,
 "nbformat_minor": 4
}
